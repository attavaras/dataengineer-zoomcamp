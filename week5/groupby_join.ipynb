{
 "cells": [
  {
   "cell_type": "code",
   "execution_count": 1,
   "id": "78cfcd77-e940-40fc-b534-fd31459498f2",
   "metadata": {},
   "outputs": [],
   "source": [
    "import pyspark\n",
    "from pyspark.sql import SparkSession"
   ]
  },
  {
   "cell_type": "code",
   "execution_count": 2,
   "id": "699f6725-60f6-45db-8861-2e259e88b3ea",
   "metadata": {},
   "outputs": [
    {
     "name": "stderr",
     "output_type": "stream",
     "text": [
      "Setting default log level to \"WARN\".\n",
      "To adjust logging level use sc.setLogLevel(newLevel). For SparkR, use setLogLevel(newLevel).\n",
      "24/03/02 20:14:19 WARN NativeCodeLoader: Unable to load native-hadoop library for your platform... using builtin-java classes where applicable\n"
     ]
    }
   ],
   "source": [
    "spark = SparkSession.builder \\\n",
    "    .master(\"local[*]\") \\\n",
    "    .appName('test') \\\n",
    "    .getOrCreate()"
   ]
  },
  {
   "cell_type": "code",
   "execution_count": 21,
   "id": "e52c813c-354d-466f-82b4-81c5308c0083",
   "metadata": {},
   "outputs": [],
   "source": [
    "df_green = spark.read.parquet('data/pq/green/*/*')"
   ]
  },
  {
   "cell_type": "code",
   "execution_count": 22,
   "id": "a866ee65-06e7-4178-b4ec-0b0392fadb30",
   "metadata": {},
   "outputs": [
    {
     "name": "stderr",
     "output_type": "stream",
     "text": [
      "/opt/homebrew/Cellar/apache-spark/3.5.0/libexec/python/pyspark/sql/dataframe.py:329: FutureWarning: Deprecated in 2.0, use createOrReplaceTempView instead.\n",
      "  warnings.warn(\"Deprecated in 2.0, use createOrReplaceTempView instead.\", FutureWarning)\n"
     ]
    }
   ],
   "source": [
    "df_green.registerTempTable(\"green_table\")"
   ]
  },
  {
   "cell_type": "code",
   "execution_count": null,
   "id": "a47a7996-ec7d-4a43-bb79-758977239092",
   "metadata": {},
   "outputs": [],
   "source": []
  },
  {
   "cell_type": "code",
   "execution_count": 23,
   "id": "d5640fd0-a18b-4644-af93-8d635f6b2459",
   "metadata": {},
   "outputs": [],
   "source": [
    "df_green_revenue = spark.sql(\"\"\"\n",
    "SELECT \n",
    "    -- Reveneue grouping \n",
    "    date_trunc('hour', lpep_pickup_datetime) AS revenue_hour, \n",
    "    PULocationID AS revenue_zone,\n",
    "\n",
    "    -- Revenue calculation \n",
    "    SUM(total_amount) AS amount,\n",
    "    COUNT(1) AS number_records\n",
    "FROM\n",
    "    green_table\n",
    "WHERE\n",
    "    lpep_pickup_datetime >= '2020-01-01 00:00:00'\n",
    "GROUP BY\n",
    "    revenue_hour, revenue_zone\n",
    "ORDER BY\n",
    "    revenue_hour, revenue_zone\n",
    "\"\"\")"
   ]
  },
  {
   "cell_type": "code",
   "execution_count": 24,
   "id": "e0904f45-6bed-4646-8426-2f794f4b573b",
   "metadata": {},
   "outputs": [
    {
     "data": {
      "text/plain": [
       "DataFrame[revenue_hour: timestamp, revenue_zone: int, amount: double, number_records: bigint]"
      ]
     },
     "execution_count": 24,
     "metadata": {},
     "output_type": "execute_result"
    }
   ],
   "source": [
    "df_green_revenue.repartition(24)"
   ]
  },
  {
   "cell_type": "code",
   "execution_count": 25,
   "id": "cd833c7c-5d90-4a0e-b90f-9c988dc18169",
   "metadata": {},
   "outputs": [
    {
     "name": "stderr",
     "output_type": "stream",
     "text": [
      "24/03/02 20:20:44 WARN MemoryManager: Total allocation exceeds 95.00% (1,020,054,720 bytes) of heap memory\n",
      "Scaling row group sizes to 95.00% for 8 writers\n"
     ]
    }
   ],
   "source": [
    "df_green_revenue \\\n",
    "    .repartition(24) \\\n",
    "    .write.parquet('data/report/revenue/green/', mode='overwrite')"
   ]
  },
  {
   "cell_type": "code",
   "execution_count": 26,
   "id": "2ee6db58-29dd-4ebe-81bc-bce10390e4c1",
   "metadata": {},
   "outputs": [],
   "source": [
    "df_yellow = spark.read.parquet('data/pq/yellow/*/*')"
   ]
  },
  {
   "cell_type": "code",
   "execution_count": 27,
   "id": "197419b7-6ff6-40cd-a546-457ecc401420",
   "metadata": {},
   "outputs": [],
   "source": [
    "df_yellow.registerTempTable(\"yellow_table\")"
   ]
  },
  {
   "cell_type": "code",
   "execution_count": 29,
   "id": "02032119-464d-437a-8ece-b6811f751a1c",
   "metadata": {},
   "outputs": [],
   "source": [
    "df_yellow_revenue = spark.sql(\"\"\"\n",
    "SELECT \n",
    "    -- Reveneue grouping \n",
    "    date_trunc('hour', tpep_pickup_datetime) AS revenue_hour, \n",
    "    PULocationID AS revenue_zone,\n",
    "\n",
    "    -- Revenue calculation \n",
    "    SUM(total_amount) AS amount,\n",
    "    COUNT(1) AS number_records\n",
    "FROM\n",
    "    yellow_table\n",
    "WHERE\n",
    "    tpep_pickup_datetime >= '2020-01-01 00:00:00'\n",
    "GROUP BY\n",
    "    revenue_hour, revenue_zone\n",
    "ORDER BY\n",
    "    revenue_hour, revenue_zone\n",
    "\"\"\")"
   ]
  },
  {
   "cell_type": "code",
   "execution_count": 30,
   "id": "3f4add0d-e289-41c5-9e8c-bcbc934008ef",
   "metadata": {},
   "outputs": [
    {
     "data": {
      "text/plain": [
       "DataFrame[revenue_hour: timestamp, revenue_zone: int, amount: double, number_records: bigint]"
      ]
     },
     "execution_count": 30,
     "metadata": {},
     "output_type": "execute_result"
    }
   ],
   "source": [
    "df_yellow_revenue.repartition(24)"
   ]
  },
  {
   "cell_type": "code",
   "execution_count": 31,
   "id": "5d3f9f06-09a6-4d90-8b23-8750d306869d",
   "metadata": {},
   "outputs": [
    {
     "name": "stderr",
     "output_type": "stream",
     "text": [
      "24/03/02 20:21:04 WARN MemoryManager: Total allocation exceeds 95.00% (1,020,054,720 bytes) of heap memory\n",
      "Scaling row group sizes to 95.00% for 8 writers\n",
      "24/03/02 20:21:04 WARN MemoryManager: Total allocation exceeds 95.00% (1,020,054,720 bytes) of heap memory\n",
      "Scaling row group sizes to 84.44% for 9 writers\n",
      "24/03/02 20:21:04 WARN MemoryManager: Total allocation exceeds 95.00% (1,020,054,720 bytes) of heap memory\n",
      "Scaling row group sizes to 76.00% for 10 writers\n",
      "24/03/02 20:21:04 WARN MemoryManager: Total allocation exceeds 95.00% (1,020,054,720 bytes) of heap memory\n",
      "Scaling row group sizes to 84.44% for 9 writers\n",
      "24/03/02 20:21:04 WARN MemoryManager: Total allocation exceeds 95.00% (1,020,054,720 bytes) of heap memory\n",
      "Scaling row group sizes to 95.00% for 8 writers\n",
      "24/03/02 20:21:04 WARN MemoryManager: Total allocation exceeds 95.00% (1,020,054,720 bytes) of heap memory\n",
      "Scaling row group sizes to 95.00% for 8 writers\n",
      "24/03/02 20:21:04 WARN MemoryManager: Total allocation exceeds 95.00% (1,020,054,720 bytes) of heap memory\n",
      "Scaling row group sizes to 84.44% for 9 writers\n",
      "24/03/02 20:21:05 WARN MemoryManager: Total allocation exceeds 95.00% (1,020,054,720 bytes) of heap memory\n",
      "Scaling row group sizes to 95.00% for 8 writers\n"
     ]
    }
   ],
   "source": [
    "df_yellow_revenue \\\n",
    "    .repartition(24) \\\n",
    "    .write.parquet('data/report/revenue/yellow/', mode='overwrite')"
   ]
  },
  {
   "cell_type": "code",
   "execution_count": 32,
   "id": "43305467-26dc-48dc-8097-6999eb034bc5",
   "metadata": {},
   "outputs": [],
   "source": [
    "df_green_revenue_tmp = df_green_revenue \\\n",
    "    .withColumnRenamed('amount', 'green_amount') \\\n",
    "    .withColumnRenamed('number_records', 'green_number_records') "
   ]
  },
  {
   "cell_type": "code",
   "execution_count": 33,
   "id": "787b360f-3130-4a3a-be84-78afcfe50fbd",
   "metadata": {},
   "outputs": [],
   "source": [
    "df_yellow_revenue_tmp = df_yellow_revenue \\\n",
    "    .withColumnRenamed('amount', 'yellow_amount') \\\n",
    "    .withColumnRenamed('number_records', 'yellow_number_records') "
   ]
  },
  {
   "cell_type": "code",
   "execution_count": 37,
   "id": "38a8a6ed-d65f-447a-ba4a-b21d3bbc3901",
   "metadata": {},
   "outputs": [],
   "source": [
    "df_join = df_green_revenue_tmp.join(df_yellow_revenue_tmp, on=['revenue_hour', 'revenue_zone'], how='outer')"
   ]
  },
  {
   "cell_type": "code",
   "execution_count": 38,
   "id": "6d03fcc7-3709-401b-9ecb-44f83b9e242f",
   "metadata": {},
   "outputs": [
    {
     "name": "stderr",
     "output_type": "stream",
     "text": [
      "[Stage 75:===================================================>    (11 + 1) / 12]\r"
     ]
    },
    {
     "name": "stdout",
     "output_type": "stream",
     "text": [
      "+-------------------+------------+------------------+--------------------+-----------------+---------------------+\n",
      "|       revenue_hour|revenue_zone|      green_amount|green_number_records|    yellow_amount|yellow_number_records|\n",
      "+-------------------+------------+------------------+--------------------+-----------------+---------------------+\n",
      "|2020-01-01 00:00:00|           3|              NULL|                NULL|             25.0|                    1|\n",
      "|2020-01-01 00:00:00|          40|            168.98|                   8|            89.97|                    5|\n",
      "|2020-01-01 00:00:00|          45|              NULL|                NULL|732.4800000000002|                   42|\n",
      "|2020-01-01 00:00:00|          47|              13.3|                   1|              8.3|                    1|\n",
      "|2020-01-01 00:00:00|          51|              17.8|                   2|             31.0|                    1|\n",
      "|2020-01-01 00:00:00|          68|              NULL|                NULL|7825.070000000015|                  396|\n",
      "|2020-01-01 00:00:00|          73|              NULL|                NULL|             17.3|                    1|\n",
      "|2020-01-01 00:00:00|          77| 75.99000000000001|                   2|           134.24|                    3|\n",
      "|2020-01-01 00:00:00|          80|            364.32|                  13|            371.4|                   20|\n",
      "|2020-01-01 00:00:00|          83|              94.1|                   7|              9.8|                    1|\n",
      "|2020-01-01 00:00:00|          95|202.20000000000002|                  15|              6.3|                    1|\n",
      "|2020-01-01 00:00:00|         133|              NULL|                NULL|             27.3|                    1|\n",
      "|2020-01-01 00:00:00|         134| 69.05000000000001|                   6|             NULL|                 NULL|\n",
      "|2020-01-01 00:00:00|         135|              NULL|                NULL|             18.3|                    1|\n",
      "|2020-01-01 00:00:00|         141|              NULL|                NULL|4306.829999999996|                  283|\n",
      "|2020-01-01 00:00:00|         164|              NULL|                NULL|5448.930000000004|                  292|\n",
      "|2020-01-01 00:00:00|         196|             37.91|                   2|             35.6|                    2|\n",
      "|2020-01-01 00:00:00|         239|              NULL|                NULL|7890.140000000014|                  464|\n",
      "|2020-01-01 00:00:00|         259|            131.24|                   7|             NULL|                 NULL|\n",
      "|2020-01-01 00:00:00|         260|296.25000000000006|                  21|            74.14|                    8|\n",
      "+-------------------+------------+------------------+--------------------+-----------------+---------------------+\n",
      "only showing top 20 rows\n",
      "\n"
     ]
    },
    {
     "name": "stderr",
     "output_type": "stream",
     "text": [
      "                                                                                \r"
     ]
    }
   ],
   "source": [
    "df_join.show()"
   ]
  },
  {
   "cell_type": "code",
   "execution_count": 39,
   "id": "eb692514-b6ff-4f2d-bd36-203029c72b36",
   "metadata": {},
   "outputs": [
    {
     "name": "stderr",
     "output_type": "stream",
     "text": [
      "24/03/02 20:24:44 WARN MemoryManager: Total allocation exceeds 95.00% (1,020,054,720 bytes) of heap memory\n",
      "Scaling row group sizes to 95.00% for 8 writers\n",
      "24/03/02 20:24:44 WARN MemoryManager: Total allocation exceeds 95.00% (1,020,054,720 bytes) of heap memory\n",
      "Scaling row group sizes to 84.44% for 9 writers\n",
      "24/03/02 20:24:44 WARN MemoryManager: Total allocation exceeds 95.00% (1,020,054,720 bytes) of heap memory\n",
      "Scaling row group sizes to 76.00% for 10 writers\n",
      "24/03/02 20:24:44 WARN MemoryManager: Total allocation exceeds 95.00% (1,020,054,720 bytes) of heap memory\n",
      "Scaling row group sizes to 84.44% for 9 writers\n",
      "24/03/02 20:24:44 WARN MemoryManager: Total allocation exceeds 95.00% (1,020,054,720 bytes) of heap memory\n",
      "Scaling row group sizes to 95.00% for 8 writers\n",
      "                                                                                \r"
     ]
    }
   ],
   "source": [
    "df_join.write.parquet('data/report/revenue/total/', mode='overwrite')"
   ]
  },
  {
   "cell_type": "code",
   "execution_count": 40,
   "id": "9e36c740-d465-4e81-8e76-9fbcbe7d891c",
   "metadata": {},
   "outputs": [],
   "source": [
    "df_join = spark.read.parquet('data/report/revenue/total/')"
   ]
  },
  {
   "cell_type": "code",
   "execution_count": 42,
   "id": "05e53e09-5bb6-43ab-9c1f-34a087ca7678",
   "metadata": {},
   "outputs": [
    {
     "name": "stdout",
     "output_type": "stream",
     "text": [
      "+-------------------+------------+------------------+--------------------+------------------+---------------------+\n",
      "|       revenue_hour|revenue_zone|      green_amount|green_number_records|     yellow_amount|yellow_number_records|\n",
      "+-------------------+------------+------------------+--------------------+------------------+---------------------+\n",
      "|2020-01-01 00:00:00|          22|              15.8|                   1|              NULL|                 NULL|\n",
      "|2020-01-01 00:00:00|          33|317.27000000000004|                  11|            255.56|                    8|\n",
      "|2020-01-01 00:00:00|          35|            129.96|                   5|              NULL|                 NULL|\n",
      "|2020-01-01 00:00:00|          52| 83.33000000000001|                   4|              49.8|                    2|\n",
      "|2020-01-01 00:00:00|          55|            129.29|                   4|              NULL|                 NULL|\n",
      "|2020-01-01 00:00:00|          56|             99.69|                   3|              18.1|                    2|\n",
      "|2020-01-01 00:00:00|          70|54.900000000000006|                   3|               9.3|                    1|\n",
      "|2020-01-01 00:00:00|         112|312.26000000000005|                  18|119.47999999999999|                    8|\n",
      "|2020-01-01 00:00:00|         136|            111.68|                   2|             168.0|                    4|\n",
      "|2020-01-01 00:00:00|         146| 99.36999999999999|                   6|            110.74|                    7|\n",
      "|2020-01-01 00:00:00|         152|58.519999999999996|                   6|            251.73|                   16|\n",
      "|2020-01-01 00:00:00|         157|             52.86|                   2|             57.06|                    2|\n",
      "|2020-01-01 00:00:00|         186|              NULL|                NULL| 4011.449999999998|                  188|\n",
      "|2020-01-01 00:00:00|         254| 73.82000000000001|                   3|            146.04|                    4|\n",
      "|2020-01-01 00:00:00|         265|              NULL|                NULL|1041.5199999999998|                   15|\n",
      "|2020-01-01 01:00:00|          33|            283.14|                  10| 632.2400000000001|                   32|\n",
      "|2020-01-01 01:00:00|          37|             88.16|                   4|            736.46|                   24|\n",
      "|2020-01-01 01:00:00|          41| 819.4999999999997|                  61|1485.2899999999995|                   98|\n",
      "|2020-01-01 01:00:00|          43|             21.76|                   2| 3341.989999999997|                  201|\n",
      "|2020-01-01 01:00:00|          48|              NULL|                NULL| 12848.59000000004|                  607|\n",
      "+-------------------+------------+------------------+--------------------+------------------+---------------------+\n",
      "only showing top 20 rows\n",
      "\n"
     ]
    }
   ],
   "source": [
    "df_join.show()"
   ]
  },
  {
   "cell_type": "code",
   "execution_count": 43,
   "id": "586c17c1-9c37-4312-bff0-2128a27ab3b5",
   "metadata": {},
   "outputs": [],
   "source": [
    "df_zones = spark.read.parquet('zones')"
   ]
  },
  {
   "cell_type": "code",
   "execution_count": 45,
   "id": "f1ce18bc-9428-4f7d-96fb-6e76af4eeccd",
   "metadata": {},
   "outputs": [
    {
     "name": "stdout",
     "output_type": "stream",
     "text": [
      "+----------+-------------+--------------------+------------+\n",
      "|LocationID|      Borough|                Zone|service_zone|\n",
      "+----------+-------------+--------------------+------------+\n",
      "|         1|          EWR|      Newark Airport|         EWR|\n",
      "|         2|       Queens|         Jamaica Bay|   Boro Zone|\n",
      "|         3|        Bronx|Allerton/Pelham G...|   Boro Zone|\n",
      "|         4|    Manhattan|       Alphabet City| Yellow Zone|\n",
      "|         5|Staten Island|       Arden Heights|   Boro Zone|\n",
      "|         6|Staten Island|Arrochar/Fort Wad...|   Boro Zone|\n",
      "|         7|       Queens|             Astoria|   Boro Zone|\n",
      "|         8|       Queens|        Astoria Park|   Boro Zone|\n",
      "|         9|       Queens|          Auburndale|   Boro Zone|\n",
      "|        10|       Queens|        Baisley Park|   Boro Zone|\n",
      "|        11|     Brooklyn|          Bath Beach|   Boro Zone|\n",
      "|        12|    Manhattan|        Battery Park| Yellow Zone|\n",
      "|        13|    Manhattan|   Battery Park City| Yellow Zone|\n",
      "|        14|     Brooklyn|           Bay Ridge|   Boro Zone|\n",
      "|        15|       Queens|Bay Terrace/Fort ...|   Boro Zone|\n",
      "|        16|       Queens|             Bayside|   Boro Zone|\n",
      "|        17|     Brooklyn|             Bedford|   Boro Zone|\n",
      "|        18|        Bronx|        Bedford Park|   Boro Zone|\n",
      "|        19|       Queens|           Bellerose|   Boro Zone|\n",
      "|        20|        Bronx|             Belmont|   Boro Zone|\n",
      "+----------+-------------+--------------------+------------+\n",
      "only showing top 20 rows\n",
      "\n"
     ]
    }
   ],
   "source": [
    "df_zones.show()"
   ]
  },
  {
   "cell_type": "code",
   "execution_count": 46,
   "id": "aef9f511-a26a-491e-be09-10b0e2b6a55b",
   "metadata": {},
   "outputs": [],
   "source": [
    "df_join_zone = df_join.join(df_zones, df_join.revenue_zone == df_zones.LocationID)"
   ]
  },
  {
   "cell_type": "code",
   "execution_count": 51,
   "id": "0437ff88-7f15-4ee6-abea-aabac3f0aed0",
   "metadata": {},
   "outputs": [
    {
     "name": "stderr",
     "output_type": "stream",
     "text": [
      "24/03/02 20:39:23 WARN MemoryManager: Total allocation exceeds 95.00% (1,020,054,720 bytes) of heap memory\n",
      "Scaling row group sizes to 95.00% for 8 writers\n",
      "24/03/02 20:39:23 WARN MemoryManager: Total allocation exceeds 95.00% (1,020,054,720 bytes) of heap memory\n",
      "Scaling row group sizes to 84.44% for 9 writers\n",
      "24/03/02 20:39:23 WARN MemoryManager: Total allocation exceeds 95.00% (1,020,054,720 bytes) of heap memory\n",
      "Scaling row group sizes to 76.00% for 10 writers\n",
      "24/03/02 20:39:24 WARN MemoryManager: Total allocation exceeds 95.00% (1,020,054,720 bytes) of heap memory\n",
      "Scaling row group sizes to 84.44% for 9 writers\n",
      "24/03/02 20:39:24 WARN MemoryManager: Total allocation exceeds 95.00% (1,020,054,720 bytes) of heap memory\n",
      "Scaling row group sizes to 95.00% for 8 writers\n",
      "                                                                                \r"
     ]
    }
   ],
   "source": [
    "df_join_zone.drop('LocationID').write.parquet('tmp/revenue-zones', mode='overwrite')"
   ]
  },
  {
   "cell_type": "code",
   "execution_count": null,
   "id": "37f1c101-83dc-406b-b7c1-e0ddc8a3e0b8",
   "metadata": {},
   "outputs": [],
   "source": []
  },
  {
   "cell_type": "code",
   "execution_count": null,
   "id": "cdc64e6d-38d1-414e-9f4e-7950d18e2b2c",
   "metadata": {},
   "outputs": [],
   "source": []
  }
 ],
 "metadata": {
  "kernelspec": {
   "display_name": "Python 3 (ipykernel)",
   "language": "python",
   "name": "python3"
  },
  "language_info": {
   "codemirror_mode": {
    "name": "ipython",
    "version": 3
   },
   "file_extension": ".py",
   "mimetype": "text/x-python",
   "name": "python",
   "nbconvert_exporter": "python",
   "pygments_lexer": "ipython3",
   "version": "3.11.6"
  }
 },
 "nbformat": 4,
 "nbformat_minor": 5
}
