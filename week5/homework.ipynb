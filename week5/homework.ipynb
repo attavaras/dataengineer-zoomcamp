{
 "cells": [
  {
   "cell_type": "code",
   "execution_count": 2,
   "id": "e806bda5-5e44-4ca0-9415-23bb18861f26",
   "metadata": {},
   "outputs": [],
   "source": [
    "import pyspark\n",
    "from pyspark.sql import SparkSession"
   ]
  },
  {
   "cell_type": "code",
   "execution_count": 3,
   "id": "aac42e6b-5a07-4399-b6c1-dcd08f2a7a3c",
   "metadata": {},
   "outputs": [
    {
     "name": "stderr",
     "output_type": "stream",
     "text": [
      "Setting default log level to \"WARN\".\n",
      "To adjust logging level use sc.setLogLevel(newLevel). For SparkR, use setLogLevel(newLevel).\n",
      "24/03/04 23:23:05 WARN NativeCodeLoader: Unable to load native-hadoop library for your platform... using builtin-java classes where applicable\n"
     ]
    }
   ],
   "source": [
    "spark = SparkSession.builder \\\n",
    "    .master(\"local[*]\") \\\n",
    "    .appName('test') \\\n",
    "    .getOrCreate()\n"
   ]
  },
  {
   "cell_type": "code",
   "execution_count": 39,
   "id": "bf2c6e3b-93b0-40cb-8b43-a7ca7aaecaed",
   "metadata": {},
   "outputs": [],
   "source": [
    "df_fhv_2019_10 = spark.read \\\n",
    ".option(\"header\", \"true\") \\\n",
    ".csv('fhv_2019_10')"
   ]
  },
  {
   "cell_type": "code",
   "execution_count": 40,
   "id": "0044d377-37f2-4c31-a738-1b38c330675d",
   "metadata": {},
   "outputs": [
    {
     "name": "stdout",
     "output_type": "stream",
     "text": [
      "+--------------------+-------------------+-------------------+------------+------------+-------+----------------------+\n",
      "|dispatching_base_num|    pickup_datetime|   dropOff_datetime|PUlocationID|DOlocationID|SR_Flag|Affiliated_base_number|\n",
      "+--------------------+-------------------+-------------------+------------+------------+-------+----------------------+\n",
      "|              B00009|2019-10-01 00:23:00|2019-10-01 00:35:00|         264|         264|   NULL|                B00009|\n",
      "|              B00013|2019-10-01 00:11:29|2019-10-01 00:13:22|         264|         264|   NULL|                B00013|\n",
      "|              B00014|2019-10-01 00:11:43|2019-10-01 00:37:20|         264|         264|   NULL|                B00014|\n",
      "|              B00014|2019-10-01 00:56:29|2019-10-01 00:57:47|         264|         264|   NULL|                B00014|\n",
      "|              B00014|2019-10-01 00:23:09|2019-10-01 00:28:27|         264|         264|   NULL|                B00014|\n",
      "+--------------------+-------------------+-------------------+------------+------------+-------+----------------------+\n",
      "only showing top 5 rows\n",
      "\n"
     ]
    }
   ],
   "source": [
    "df_fhv_2019_10.show(5)"
   ]
  },
  {
   "cell_type": "code",
   "execution_count": 43,
   "id": "bb88b155-6a5e-4eab-8342-cd541fcd843e",
   "metadata": {},
   "outputs": [
    {
     "data": {
      "text/plain": [
       "StructType([StructField('dispatching_base_num', StringType(), True), StructField('pickup_datetime', StringType(), True), StructField('dropOff_datetime', StringType(), True), StructField('PUlocationID', StringType(), True), StructField('DOlocationID', StringType(), True), StructField('SR_Flag', StringType(), True), StructField('Affiliated_base_number', StringType(), True)])"
      ]
     },
     "execution_count": 43,
     "metadata": {},
     "output_type": "execute_result"
    }
   ],
   "source": [
    "df_fhv_2019_10.schema"
   ]
  },
  {
   "cell_type": "code",
   "execution_count": 5,
   "id": "ab667fa9-b2c0-4de8-8915-9bf7b98e1069",
   "metadata": {},
   "outputs": [],
   "source": [
    "import pandas as pd"
   ]
  },
  {
   "cell_type": "code",
   "execution_count": 44,
   "id": "7a023783-0b24-442e-981d-dc4d2f58d6fb",
   "metadata": {},
   "outputs": [],
   "source": [
    "df_fhv_pd = pd.read_csv('fhv_2019_10/fhv_tripdata_2019-10.csv.gz', nrows=1000)"
   ]
  },
  {
   "cell_type": "code",
   "execution_count": 45,
   "id": "1e703b0f-fd31-4629-9e61-f67897a32a62",
   "metadata": {},
   "outputs": [
    {
     "data": {
      "text/plain": [
       "dispatching_base_num       object\n",
       "pickup_datetime            object\n",
       "dropOff_datetime           object\n",
       "PUlocationID              float64\n",
       "DOlocationID              float64\n",
       "SR_Flag                   float64\n",
       "Affiliated_base_number     object\n",
       "dtype: object"
      ]
     },
     "execution_count": 45,
     "metadata": {},
     "output_type": "execute_result"
    }
   ],
   "source": [
    "df_fhv_pd.dtypes"
   ]
  },
  {
   "cell_type": "code",
   "execution_count": 46,
   "id": "563cf27d-50a2-4e68-93da-58da8eeaaa48",
   "metadata": {},
   "outputs": [],
   "source": [
    "from pyspark.sql import types"
   ]
  },
  {
   "cell_type": "code",
   "execution_count": 47,
   "id": "e80301a8-0cb2-434d-b909-6518f45b9f80",
   "metadata": {},
   "outputs": [],
   "source": [
    "fhv_schema = types.StructType([\n",
    "        types.StructField('dispatching_base_num', types.StringType(), True),\n",
    "        types.StructField('pickup_datetime', types.TimestampType(), True), \n",
    "        types.StructField('dropOff_datetime', types.TimestampType(), True), \n",
    "        types.StructField('PUlocationID', types.IntegerType(), True), \n",
    "        types.StructField('DOlocationID', types.IntegerType(), True), \n",
    "        types.StructField('SR_Flag', types.StringType(), True), \n",
    "        types.StructField('Affiliated_base_number', types.StringType(), True)])"
   ]
  },
  {
   "cell_type": "code",
   "execution_count": 48,
   "id": "4589af11-092b-488a-9546-09ab59a2da21",
   "metadata": {},
   "outputs": [],
   "source": [
    "df_fhv = spark.read \\\n",
    ".option(\"header\", \"true\") \\\n",
    ".schema(fhv_schema) \\\n",
    ".csv('fhv_2019_10')"
   ]
  },
  {
   "cell_type": "code",
   "execution_count": 49,
   "id": "ed684fd2-4930-402f-a5b2-07c85855c246",
   "metadata": {
    "scrolled": true
   },
   "outputs": [
    {
     "name": "stderr",
     "output_type": "stream",
     "text": [
      "                                                                                \r"
     ]
    }
   ],
   "source": [
    "df_fhv \\\n",
    "        .repartition(6) \\\n",
    "        .write.parquet('fhv_output', mode='overwrite')"
   ]
  },
  {
   "cell_type": "code",
   "execution_count": 50,
   "id": "6ebc92c9-7540-4074-8098-4b6154dac8d5",
   "metadata": {},
   "outputs": [
    {
     "name": "stderr",
     "output_type": "stream",
     "text": [
      "/opt/homebrew/Cellar/apache-spark/3.5.0/libexec/python/pyspark/sql/dataframe.py:329: FutureWarning: Deprecated in 2.0, use createOrReplaceTempView instead.\n",
      "  warnings.warn(\"Deprecated in 2.0, use createOrReplaceTempView instead.\", FutureWarning)\n"
     ]
    }
   ],
   "source": [
    "df_fhv.registerTempTable('fhv_table')"
   ]
  },
  {
   "cell_type": "code",
   "execution_count": 51,
   "id": "bd972224-bb78-4282-9e8f-81c070fc6c66",
   "metadata": {},
   "outputs": [],
   "source": [
    "df_fhv_count_15th_Oct = spark.sql(\"\"\"\n",
    "SELECT \n",
    "    -- Reveneue grouping \n",
    "    COUNT(1) AS COUNT\n",
    "FROM\n",
    "    fhv_table\n",
    "WHERE\n",
    "    pickup_datetime >= '2019-10-15 00:00:00' AND pickup_datetime <= '2019-10-15 23:59:59'\n",
    "\"\"\")"
   ]
  },
  {
   "cell_type": "code",
   "execution_count": 52,
   "id": "e1dbcfa2-1acd-495c-aa29-351d5cddf639",
   "metadata": {},
   "outputs": [
    {
     "name": "stderr",
     "output_type": "stream",
     "text": [
      "[Stage 26:>                                                         (0 + 1) / 1]\r"
     ]
    },
    {
     "name": "stdout",
     "output_type": "stream",
     "text": [
      "+-----+\n",
      "|COUNT|\n",
      "+-----+\n",
      "|62610|\n",
      "+-----+\n",
      "\n"
     ]
    },
    {
     "name": "stderr",
     "output_type": "stream",
     "text": [
      "                                                                                \r"
     ]
    }
   ],
   "source": [
    "df_fhv_count_15th_Oct.show()"
   ]
  },
  {
   "cell_type": "code",
   "execution_count": 53,
   "id": "3f9e8b58-6e07-48f2-a6ba-703b7a67d6ac",
   "metadata": {},
   "outputs": [],
   "source": [
    "from pyspark.sql import functions as F"
   ]
  },
  {
   "cell_type": "code",
   "execution_count": 62,
   "id": "a0c881df-a183-454e-a151-cde5f5f63e37",
   "metadata": {},
   "outputs": [],
   "source": [
    "df_fhv_hours = df_fhv.withColumn('hours_diff', (F.col('dropOff_datetime').cast('long') - F.col('pickup_datetime').cast('long'))/3600) "
   ]
  },
  {
   "cell_type": "code",
   "execution_count": 63,
   "id": "1eb9d6a2-e94a-4877-aa4e-4494700e4f8b",
   "metadata": {},
   "outputs": [
    {
     "name": "stdout",
     "output_type": "stream",
     "text": [
      "+--------------------+-------------------+-------------------+------------+------------+-------+----------------------+--------------------+\n",
      "|dispatching_base_num|    pickup_datetime|   dropOff_datetime|PUlocationID|DOlocationID|SR_Flag|Affiliated_base_number|          hours_diff|\n",
      "+--------------------+-------------------+-------------------+------------+------------+-------+----------------------+--------------------+\n",
      "|              B00009|2019-10-01 00:23:00|2019-10-01 00:35:00|         264|         264|   NULL|                B00009|                 0.2|\n",
      "|              B00013|2019-10-01 00:11:29|2019-10-01 00:13:22|         264|         264|   NULL|                B00013| 0.03138888888888889|\n",
      "|              B00014|2019-10-01 00:11:43|2019-10-01 00:37:20|         264|         264|   NULL|                B00014| 0.42694444444444446|\n",
      "|              B00014|2019-10-01 00:56:29|2019-10-01 00:57:47|         264|         264|   NULL|                B00014|0.021666666666666667|\n",
      "|              B00014|2019-10-01 00:23:09|2019-10-01 00:28:27|         264|         264|   NULL|                B00014| 0.08833333333333333|\n",
      "|     B00021         |2019-10-01 00:00:48|2019-10-01 00:07:12|         129|         129|   NULL|       B00021         | 0.10666666666666667|\n",
      "|     B00021         |2019-10-01 00:47:23|2019-10-01 00:53:25|          57|          57|   NULL|       B00021         | 0.10055555555555555|\n",
      "|     B00021         |2019-10-01 00:10:06|2019-10-01 00:19:50|         173|         173|   NULL|       B00021         |  0.1622222222222222|\n",
      "|     B00021         |2019-10-01 00:51:37|2019-10-01 01:06:14|         226|         226|   NULL|       B00021         |  0.2436111111111111|\n",
      "|     B00021         |2019-10-01 00:28:23|2019-10-01 00:34:33|          56|          56|   NULL|       B00021         | 0.10277777777777777|\n",
      "|     B00021         |2019-10-01 00:31:17|2019-10-01 00:51:52|          82|          82|   NULL|       B00021         | 0.34305555555555556|\n",
      "|              B00037|2019-10-01 00:07:41|2019-10-01 00:15:23|         264|          71|   NULL|                B00037| 0.12833333333333333|\n",
      "|              B00037|2019-10-01 00:13:38|2019-10-01 00:25:51|         264|          39|   NULL|                B00037|  0.2036111111111111|\n",
      "|              B00037|2019-10-01 00:42:40|2019-10-01 00:53:47|         264|         188|   NULL|                B00037|  0.1852777777777778|\n",
      "|              B00037|2019-10-01 00:58:46|2019-10-01 01:10:11|         264|          91|   NULL|                B00037| 0.19027777777777777|\n",
      "|              B00037|2019-10-01 00:09:49|2019-10-01 00:14:37|         264|          71|   NULL|                B00037|                0.08|\n",
      "|              B00037|2019-10-01 00:22:35|2019-10-01 00:36:53|         264|          35|   NULL|                B00037| 0.23833333333333334|\n",
      "|              B00037|2019-10-01 00:54:27|2019-10-01 01:03:37|         264|          61|   NULL|                B00037|  0.1527777777777778|\n",
      "|              B00037|2019-10-01 00:08:12|2019-10-01 00:28:47|         264|         198|   NULL|                B00037| 0.34305555555555556|\n",
      "|              B00053|2019-10-01 00:05:24|2019-10-01 00:53:03|         264|         264|   NULL|                  #N/A|  0.7941666666666667|\n",
      "+--------------------+-------------------+-------------------+------------+------------+-------+----------------------+--------------------+\n",
      "only showing top 20 rows\n",
      "\n"
     ]
    }
   ],
   "source": [
    "df_fhv_hours.show()"
   ]
  },
  {
   "cell_type": "code",
   "execution_count": 64,
   "id": "28b7fe59-733e-463a-8dbb-c1a552d21b4f",
   "metadata": {},
   "outputs": [
    {
     "name": "stderr",
     "output_type": "stream",
     "text": [
      "/opt/homebrew/Cellar/apache-spark/3.5.0/libexec/python/pyspark/sql/dataframe.py:329: FutureWarning: Deprecated in 2.0, use createOrReplaceTempView instead.\n",
      "  warnings.warn(\"Deprecated in 2.0, use createOrReplaceTempView instead.\", FutureWarning)\n"
     ]
    }
   ],
   "source": [
    "df_fhv_hours.registerTempTable('hours_fhv_table')"
   ]
  },
  {
   "cell_type": "code",
   "execution_count": 65,
   "id": "6b866cbb-dc1f-4e66-9dd1-c18cd578390a",
   "metadata": {},
   "outputs": [],
   "source": [
    "df_fhv_longest_trip = spark.sql(\"\"\"\n",
    "SELECT \n",
    "    -- Reveneue grouping \n",
    "    hours_diff\n",
    "FROM\n",
    "    hours_fhv_table\n",
    "    \n",
    "ORDER BY hours_diff DESC\n",
    "\"\"\")"
   ]
  },
  {
   "cell_type": "code",
   "execution_count": 66,
   "id": "d1f872ac-45ac-48b6-98c9-3a46de1f9298",
   "metadata": {},
   "outputs": [
    {
     "name": "stderr",
     "output_type": "stream",
     "text": [
      "[Stage 36:>                                                         (0 + 1) / 1]\r"
     ]
    },
    {
     "name": "stdout",
     "output_type": "stream",
     "text": [
      "+------------------+\n",
      "|        hours_diff|\n",
      "+------------------+\n",
      "|          631152.5|\n",
      "|          631152.5|\n",
      "| 87672.44083333333|\n",
      "| 70128.02805555555|\n",
      "|            8794.0|\n",
      "| 8785.166666666666|\n",
      "|1464.5344444444445|\n",
      "|1057.8266666666666|\n",
      "|1057.2705555555556|\n",
      "| 794.5530555555556|\n",
      "| 794.3858333333334|\n",
      "|          794.2975|\n",
      "| 793.9980555555555|\n",
      "| 793.9883333333333|\n",
      "| 793.8602777777778|\n",
      "| 793.8108333333333|\n",
      "|           793.785|\n",
      "| 793.7694444444444|\n",
      "| 793.7538888888889|\n",
      "| 793.7463888888889|\n",
      "+------------------+\n",
      "only showing top 20 rows\n",
      "\n"
     ]
    },
    {
     "name": "stderr",
     "output_type": "stream",
     "text": [
      "                                                                                \r"
     ]
    }
   ],
   "source": [
    "df_fhv_longest_trip.show()"
   ]
  },
  {
   "cell_type": "code",
   "execution_count": 67,
   "id": "5157dfe5-6ab4-4e58-9812-7244390ee7b5",
   "metadata": {},
   "outputs": [],
   "source": [
    "df_zones = spark.read.parquet('zones')"
   ]
  },
  {
   "cell_type": "code",
   "execution_count": 68,
   "id": "3df31ab0-5f31-4fec-8fc8-8071e9fa4ee8",
   "metadata": {},
   "outputs": [],
   "source": [
    "df_fhv_zone = df_fhv_hours.join(df_zones, df_fhv_hours.PUlocationID == df_zones.LocationID)"
   ]
  },
  {
   "cell_type": "code",
   "execution_count": 72,
   "id": "8a632641-d762-42d0-9a38-643e05dabc7c",
   "metadata": {},
   "outputs": [
    {
     "name": "stdout",
     "output_type": "stream",
     "text": [
      "+--------------------+-------------------+-------------------+------------+------------+-------+----------------------+--------------------+----------+-------+---------------+------------+\n",
      "|dispatching_base_num|    pickup_datetime|   dropOff_datetime|PUlocationID|DOlocationID|SR_Flag|Affiliated_base_number|          hours_diff|LocationID|Borough|           Zone|service_zone|\n",
      "+--------------------+-------------------+-------------------+------------+------------+-------+----------------------+--------------------+----------+-------+---------------+------------+\n",
      "|              B00009|2019-10-01 00:23:00|2019-10-01 00:35:00|         264|         264|   NULL|                B00009|                 0.2|       264|Unknown|             NV|         N/A|\n",
      "|              B00013|2019-10-01 00:11:29|2019-10-01 00:13:22|         264|         264|   NULL|                B00013| 0.03138888888888889|       264|Unknown|             NV|         N/A|\n",
      "|              B00014|2019-10-01 00:11:43|2019-10-01 00:37:20|         264|         264|   NULL|                B00014| 0.42694444444444446|       264|Unknown|             NV|         N/A|\n",
      "|              B00014|2019-10-01 00:56:29|2019-10-01 00:57:47|         264|         264|   NULL|                B00014|0.021666666666666667|       264|Unknown|             NV|         N/A|\n",
      "|              B00014|2019-10-01 00:23:09|2019-10-01 00:28:27|         264|         264|   NULL|                B00014| 0.08833333333333333|       264|Unknown|             NV|         N/A|\n",
      "|     B00021         |2019-10-01 00:00:48|2019-10-01 00:07:12|         129|         129|   NULL|       B00021         | 0.10666666666666667|       129| Queens|Jackson Heights|   Boro Zone|\n",
      "|     B00021         |2019-10-01 00:47:23|2019-10-01 00:53:25|          57|          57|   NULL|       B00021         | 0.10055555555555555|        57| Queens|         Corona|   Boro Zone|\n",
      "|     B00021         |2019-10-01 00:10:06|2019-10-01 00:19:50|         173|         173|   NULL|       B00021         |  0.1622222222222222|       173| Queens|   North Corona|   Boro Zone|\n",
      "|     B00021         |2019-10-01 00:51:37|2019-10-01 01:06:14|         226|         226|   NULL|       B00021         |  0.2436111111111111|       226| Queens|      Sunnyside|   Boro Zone|\n",
      "|     B00021         |2019-10-01 00:28:23|2019-10-01 00:34:33|          56|          56|   NULL|       B00021         | 0.10277777777777777|        56| Queens|         Corona|   Boro Zone|\n",
      "|     B00021         |2019-10-01 00:31:17|2019-10-01 00:51:52|          82|          82|   NULL|       B00021         | 0.34305555555555556|        82| Queens|       Elmhurst|   Boro Zone|\n",
      "|              B00037|2019-10-01 00:07:41|2019-10-01 00:15:23|         264|          71|   NULL|                B00037| 0.12833333333333333|       264|Unknown|             NV|         N/A|\n",
      "|              B00037|2019-10-01 00:13:38|2019-10-01 00:25:51|         264|          39|   NULL|                B00037|  0.2036111111111111|       264|Unknown|             NV|         N/A|\n",
      "|              B00037|2019-10-01 00:42:40|2019-10-01 00:53:47|         264|         188|   NULL|                B00037|  0.1852777777777778|       264|Unknown|             NV|         N/A|\n",
      "|              B00037|2019-10-01 00:58:46|2019-10-01 01:10:11|         264|          91|   NULL|                B00037| 0.19027777777777777|       264|Unknown|             NV|         N/A|\n",
      "|              B00037|2019-10-01 00:09:49|2019-10-01 00:14:37|         264|          71|   NULL|                B00037|                0.08|       264|Unknown|             NV|         N/A|\n",
      "|              B00037|2019-10-01 00:22:35|2019-10-01 00:36:53|         264|          35|   NULL|                B00037| 0.23833333333333334|       264|Unknown|             NV|         N/A|\n",
      "|              B00037|2019-10-01 00:54:27|2019-10-01 01:03:37|         264|          61|   NULL|                B00037|  0.1527777777777778|       264|Unknown|             NV|         N/A|\n",
      "|              B00037|2019-10-01 00:08:12|2019-10-01 00:28:47|         264|         198|   NULL|                B00037| 0.34305555555555556|       264|Unknown|             NV|         N/A|\n",
      "|              B00053|2019-10-01 00:05:24|2019-10-01 00:53:03|         264|         264|   NULL|                  #N/A|  0.7941666666666667|       264|Unknown|             NV|         N/A|\n",
      "+--------------------+-------------------+-------------------+------------+------------+-------+----------------------+--------------------+----------+-------+---------------+------------+\n",
      "only showing top 20 rows\n",
      "\n"
     ]
    }
   ],
   "source": [
    "df_fhv_zone.show()"
   ]
  },
  {
   "cell_type": "code",
   "execution_count": 73,
   "id": "09c8ca88-9d9a-4b77-8d7a-830d57ff9624",
   "metadata": {},
   "outputs": [
    {
     "name": "stderr",
     "output_type": "stream",
     "text": [
      "/opt/homebrew/Cellar/apache-spark/3.5.0/libexec/python/pyspark/sql/dataframe.py:329: FutureWarning: Deprecated in 2.0, use createOrReplaceTempView instead.\n",
      "  warnings.warn(\"Deprecated in 2.0, use createOrReplaceTempView instead.\", FutureWarning)\n"
     ]
    }
   ],
   "source": [
    "df_fhv_zone.registerTempTable('fhv_zone_table')"
   ]
  },
  {
   "cell_type": "code",
   "execution_count": 76,
   "id": "e4704796-c810-484f-a6a3-a756df3f8a5f",
   "metadata": {},
   "outputs": [],
   "source": [
    "df_fhv_zone_least_popular = spark.sql(\"\"\"\n",
    "SELECT \n",
    "    Zone, COUNT(1) AS num_records\n",
    "FROM\n",
    "    fhv_zone_table\n",
    "GROUP BY\n",
    "    Zone\n",
    "ORDER BY\n",
    "    num_records\n",
    "\"\"\")"
   ]
  },
  {
   "cell_type": "code",
   "execution_count": 77,
   "id": "c0879fb9-383f-48e0-aa50-c38586acfb8e",
   "metadata": {},
   "outputs": [
    {
     "name": "stderr",
     "output_type": "stream",
     "text": [
      "[Stage 47:>                                                         (0 + 1) / 1]\r"
     ]
    },
    {
     "name": "stdout",
     "output_type": "stream",
     "text": [
      "+--------------------+-----------+\n",
      "|                Zone|num_records|\n",
      "+--------------------+-----------+\n",
      "|         Jamaica Bay|          1|\n",
      "|Governor's Island...|          2|\n",
      "| Green-Wood Cemetery|          5|\n",
      "|       Broad Channel|          8|\n",
      "|     Highbridge Park|         14|\n",
      "|        Battery Park|         15|\n",
      "|Saint Michaels Ce...|         23|\n",
      "|Breezy Point/Fort...|         25|\n",
      "|Marine Park/Floyd...|         26|\n",
      "|        Astoria Park|         29|\n",
      "|    Inwood Hill Park|         39|\n",
      "|       Willets Point|         47|\n",
      "|Forest Park/Highl...|         53|\n",
      "|  Brooklyn Navy Yard|         57|\n",
      "|        Crotona Park|         62|\n",
      "|        Country Club|         77|\n",
      "|     Freshkills Park|         89|\n",
      "|       Prospect Park|         98|\n",
      "|     Columbia Street|        105|\n",
      "|  South Williamsburg|        110|\n",
      "+--------------------+-----------+\n",
      "only showing top 20 rows\n",
      "\n"
     ]
    },
    {
     "name": "stderr",
     "output_type": "stream",
     "text": [
      "                                                                                \r"
     ]
    }
   ],
   "source": [
    "df_fhv_zone_least_popular.show()"
   ]
  },
  {
   "cell_type": "code",
   "execution_count": null,
   "id": "b46b7316-6791-46d0-b92f-6e895a25cffe",
   "metadata": {},
   "outputs": [],
   "source": []
  }
 ],
 "metadata": {
  "kernelspec": {
   "display_name": "Python 3 (ipykernel)",
   "language": "python",
   "name": "python3"
  },
  "language_info": {
   "codemirror_mode": {
    "name": "ipython",
    "version": 3
   },
   "file_extension": ".py",
   "mimetype": "text/x-python",
   "name": "python",
   "nbconvert_exporter": "python",
   "pygments_lexer": "ipython3",
   "version": "3.11.6"
  }
 },
 "nbformat": 4,
 "nbformat_minor": 5
}
